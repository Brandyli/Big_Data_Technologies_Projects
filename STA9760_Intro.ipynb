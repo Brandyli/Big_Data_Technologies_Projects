{
  "nbformat": 4,
  "nbformat_minor": 0,
  "metadata": {
    "colab": {
      "name": "STA9760_Intro.ipynb",
      "provenance": [],
      "authorship_tag": "ABX9TyOAS5KE5VNj9K5AeMWGNPC2",
      "include_colab_link": true
    },
    "kernelspec": {
      "name": "python3",
      "display_name": "Python 3"
    }
  },
  "cells": [
    {
      "cell_type": "markdown",
      "metadata": {
        "id": "view-in-github",
        "colab_type": "text"
      },
      "source": [
        "<a href=\"https://colab.research.google.com/github/Brandyli/BigDataProject1/blob/master/STA9760_Intro.ipynb\" target=\"_parent\"><img src=\"https://colab.research.google.com/assets/colab-badge.svg\" alt=\"Open In Colab\"/></a>"
      ]
    },
    {
      "cell_type": "code",
      "metadata": {
        "id": "q1ybkcihXwHS",
        "colab_type": "code",
        "colab": {}
      },
      "source": [
        "import requests\n",
        "\n",
        "# this is a \"get\" request - try pasting into your browser URL\n",
        "r = requests.get('https://api.github.com/users/mottaquikarim')\n"
      ],
      "execution_count": 0,
      "outputs": []
    },
    {
      "cell_type": "code",
      "metadata": {
        "id": "54bTXkT8aJ1f",
        "colab_type": "code",
        "colab": {
          "base_uri": "https://localhost:8080/",
          "height": 34
        },
        "outputId": "bfafaad6-e5e6-4495-db2f-b80117ee5c21"
      },
      "source": [
        "# this is the status code, 200 means \"successful\"\n",
        "print(r.status_code)"
      ],
      "execution_count": 4,
      "outputs": [
        {
          "output_type": "stream",
          "text": [
            "200\n"
          ],
          "name": "stdout"
        }
      ]
    },
    {
      "cell_type": "code",
      "metadata": {
        "id": "uo9uXhWgapZI",
        "colab_type": "code",
        "colab": {
          "base_uri": "https://localhost:8080/",
          "height": 34
        },
        "outputId": "ecaa9d40-3da0-4726-9f12-9d9f32c7ef17"
      },
      "source": [
        "# this is a hint for what type of content we expect to get back\n",
        "# application/json implies it is encoded as a data structure\n",
        "print(r.headers['content-type'])"
      ],
      "execution_count": 5,
      "outputs": [
        {
          "output_type": "stream",
          "text": [
            "application/json; charset=utf-8\n"
          ],
          "name": "stdout"
        }
      ]
    },
    {
      "cell_type": "code",
      "metadata": {
        "id": "-69B7cWsaqEy",
        "colab_type": "code",
        "colab": {
          "base_uri": "https://localhost:8080/",
          "height": 54
        },
        "outputId": "db80b8c9-7478-468a-9a33-5e319ccfeb25"
      },
      "source": [
        "# print the actual response\n",
        "print(r.json())"
      ],
      "execution_count": 8,
      "outputs": [
        {
          "output_type": "stream",
          "text": [
            "{'login': 'mottaquikarim', 'id': 3136020, 'node_id': 'MDQ6VXNlcjMxMzYwMjA=', 'avatar_url': 'https://avatars1.githubusercontent.com/u/3136020?v=4', 'gravatar_id': '', 'url': 'https://api.github.com/users/mottaquikarim', 'html_url': 'https://github.com/mottaquikarim', 'followers_url': 'https://api.github.com/users/mottaquikarim/followers', 'following_url': 'https://api.github.com/users/mottaquikarim/following{/other_user}', 'gists_url': 'https://api.github.com/users/mottaquikarim/gists{/gist_id}', 'starred_url': 'https://api.github.com/users/mottaquikarim/starred{/owner}{/repo}', 'subscriptions_url': 'https://api.github.com/users/mottaquikarim/subscriptions', 'organizations_url': 'https://api.github.com/users/mottaquikarim/orgs', 'repos_url': 'https://api.github.com/users/mottaquikarim/repos', 'events_url': 'https://api.github.com/users/mottaquikarim/events{/privacy}', 'received_events_url': 'https://api.github.com/users/mottaquikarim/received_events', 'type': 'User', 'site_admin': False, 'name': 'Mottaqui Karim', 'company': 'IxN, GA, TKC', 'blog': 'http://mottaquikar.im/', 'location': 'NYC', 'email': None, 'hireable': None, 'bio': '\"See a Need, Fill a Need!\" -- in a nutshell, really.', 'public_repos': 292, 'public_gists': 19, 'followers': 130, 'following': 16, 'created_at': '2012-12-27T17:58:26Z', 'updated_at': '2020-03-29T15:03:51Z'}\n"
          ],
          "name": "stdout"
        }
      ]
    }
  ]
}